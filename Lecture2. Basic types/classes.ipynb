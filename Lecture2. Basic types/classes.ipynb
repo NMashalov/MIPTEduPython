{
 "cells": [
  {
   "cell_type": "markdown",
   "metadata": {},
   "source": [
    "Классы удобно объяснять в сравнение с функциями"
   ]
  },
  {
   "cell_type": "code",
   "execution_count": 12,
   "metadata": {},
   "outputs": [],
   "source": [
    "def sum(a: str,b: str) -> None:\n",
    "    \"\"\" Складывает два числа\n",
    "    \"\"\"\n",
    "    print(f'Cумма числел {a} и {b} равна:',a + b)\n",
    "    return a+b\n",
    "\n",
    "def sub(a:int, b:int) -> None:\n",
    "    \"\"\" Вычитает из левого числа правое\n",
    "    \"\"\"\n",
    "    print(f'Разность чисел {a} и {b} равна:',a - b)\n",
    "\n",
    "\n",
    "def mult(a:int, b:int) -> None:\n",
    "    \"\"\" Умножает левое и правое число\n",
    "    \"\"\"\n",
    "    print(f'Произведение чисел {a} и {b} равно:',a * b)\n",
    "\n",
    "def power(a:int, b:int) -> None:\n",
    "    \"\"\" Возведите число в степень\n",
    "    Должен выводить в командную строку для ввода (5,2):\n",
    "    2 степень числа 5: 25\n",
    "    \"\"\"\n",
    "    print(f'{a} степень числа {b}:',a ** b)"
   ]
  },
  {
   "cell_type": "code",
   "execution_count": 10,
   "metadata": {},
   "outputs": [
    {
     "name": "stdout",
     "output_type": "stream",
     "text": [
      "Cумма числел 5 и 6 равна: 11\n",
      "Разность чисел 3 и 2 равна: 1\n",
      "Произведение чисел 1 и 2 равно: 2\n",
      "-5 степень числа 2: 25\n"
     ]
    }
   ],
   "source": [
    "sum(5,6)\n",
    "sub(3,2)\n",
    "mult(1,2)\n",
    "power(-5,2)"
   ]
  },
  {
   "cell_type": "code",
   "execution_count": 15,
   "metadata": {},
   "outputs": [
    {
     "name": "stdout",
     "output_type": "stream",
     "text": [
      "Cумма числел 0 и 5 равна: 5\n",
      "Разность чисел 5 и 1 равна: 4\n"
     ]
    }
   ],
   "source": [
    "init_number = 0\n",
    "\n",
    "c = sum(init_number,5)\n",
    "sub(c,1)"
   ]
  },
  {
   "cell_type": "markdown",
   "metadata": {},
   "source": [
    "Но так не получится сохранить результат прошлой итерации.\n",
    "Каждый раз приходится передавать оба числа. Это неудобно.\n",
    "Хотелось бы иметь такую функцию, которая умела запоминать -> имела состояние. \n",
    "\n",
    "Такую возможность предоставляет классы"
   ]
  },
  {
   "cell_type": "code",
   "execution_count": null,
   "metadata": {},
   "outputs": [],
   "source": [
    "class_dict =\n",
    "{\n",
    "\n",
    "    \n",
    "}\n",
    "\n",
    "def()"
   ]
  },
  {
   "cell_type": "code",
   "execution_count": 17,
   "metadata": {},
   "outputs": [],
   "source": [
    "class Calculator: \n",
    "    def __init__(self, init_number=0):\n",
    "        \"\"\"Передаем во внутренний словарик наше состояние\n",
    "        \"\"\"\n",
    "        print(f\"Начинаем вычисления с числом {init_number}\")\n",
    "        self.state = init_number\n",
    "\n",
    "    # через self мы передаём словарик с нашим состоянием в метод\n",
    "    def sum(self,b:int) -> None:\n",
    "        \"\"\" Складывает два числа\n",
    "        \"\"\"\n",
    "        self.state += b\n",
    "        print(f'Суммируем и получаем:',self.state)\n",
    "\n",
    "    def sub(self, b:int) -> None:\n",
    "        \"\"\" Вычитает из левого числа правое\n",
    "        \"\"\"\n",
    "        self.state -= b\n",
    "        print(f'Вычитаем и получаем:',self.state)\n",
    "\n",
    "    def mult(self, b:int) -> None:\n",
    "        \"\"\" Умножает левое и правое число\n",
    "        \"\"\"\n",
    "        self.state *= b\n",
    "        print(f'Умножаем и получаем',self.state)\n",
    "    def get_state(self) -> None:\n",
    "        print(f'На экране сейчас',self.state)\n",
    "\n"
   ]
  },
  {
   "cell_type": "code",
   "execution_count": 14,
   "metadata": {},
   "outputs": [
    {
     "name": "stdout",
     "output_type": "stream",
     "text": [
      "Начинаем вычисления с числом 0\n"
     ]
    },
    {
     "data": {
      "text/plain": [
       "0"
      ]
     },
     "execution_count": 14,
     "metadata": {},
     "output_type": "execute_result"
    }
   ],
   "source": [
    "calc = Calculator() \n",
    "calc.state # можно получить доступ к словарику по названию"
   ]
  },
  {
   "cell_type": "code",
   "execution_count": 18,
   "metadata": {},
   "outputs": [
    {
     "name": "stdout",
     "output_type": "stream",
     "text": [
      "Начинаем вычисления с числом 0\n",
      "Суммируем и получаем: 5\n",
      "Умножаем и получаем 15\n",
      "Вычитаем и получаем: 14\n"
     ]
    }
   ],
   "source": [
    "calc1 = Calculator() \n",
    "calc1.sum(5) \n",
    "calc1.mult(3)\n",
    "calc1.sub(1)"
   ]
  },
  {
   "cell_type": "markdown",
   "metadata": {},
   "source": [
    "Теперь это больше похоже на калькулятор :)"
   ]
  },
  {
   "cell_type": "code",
   "execution_count": 19,
   "metadata": {},
   "outputs": [],
   "source": [
    "class Car:\n",
    "    '''\n",
    "    fuel: Is amount of fuel in tank of car in percents \n",
    "    dist: All distance that car run\n",
    "    fuel_consumption: Amount of fuel in percentage for running 1km\n",
    "    '''\n",
    "    def __init__(self, fuel: float = 1.0, dist: float = 0., fuel_consumption: float = 0.02):\n",
    "        self.fuel = fuel\n",
    "        self.dist = dist\n",
    "        self.fuel_consumption = fuel_consumption\n",
    "        self.hello = lambda: print('hello')\n",
    "\n",
    "    def run(self, dist: float = 0.5):\n",
    "        \"\"\"\n",
    "        Run distance if fuel tank allows us to do that. Otherwise write it is not possible\n",
    "        \"\"\"\n",
    "        if self.fuel >= self.fuel_consumption * dist:\n",
    "            self.dist += dist\n",
    "            self.fuel -= self.fuel_consumption * dist\n",
    "        else:\n",
    "            raise ValueError(\"It is not possible!\")\n"
   ]
  },
  {
   "cell_type": "code",
   "execution_count": 25,
   "metadata": {},
   "outputs": [
    {
     "ename": "TypeError",
     "evalue": "Car.run() missing 1 required positional argument: 'self'",
     "output_type": "error",
     "traceback": [
      "\u001b[1;31m---------------------------------------------------------------------------\u001b[0m",
      "\u001b[1;31mTypeError\u001b[0m                                 Traceback (most recent call last)",
      "\u001b[1;32mc:\\Users\\bug\\Desktop\\edupython2023\\MIPTEduPython\\Lecture2. Basic types\\classes.ipynb Cell 12\u001b[0m line \u001b[0;36m1\n\u001b[1;32m----> <a href='vscode-notebook-cell:/c%3A/Users/bug/Desktop/edupython2023/MIPTEduPython/Lecture2.%20Basic%20types/classes.ipynb#X16sZmlsZQ%3D%3D?line=0'>1</a>\u001b[0m Car\u001b[39m.\u001b[39;49mrun()\n",
      "\u001b[1;31mTypeError\u001b[0m: Car.run() missing 1 required positional argument: 'self'"
     ]
    }
   ],
   "source": []
  },
  {
   "cell_type": "code",
   "execution_count": 23,
   "metadata": {},
   "outputs": [
    {
     "name": "stdout",
     "output_type": "stream",
     "text": [
      "1.0\n",
      "0.8\n"
     ]
    }
   ],
   "source": [
    "my_car = Car()\n",
    "print(my_car.fuel)\n",
    "my_car.run(10)\n",
    "print(my_car.fuel)"
   ]
  },
  {
   "cell_type": "code",
   "execution_count": 24,
   "metadata": {},
   "outputs": [
    {
     "name": "stdout",
     "output_type": "stream",
     "text": [
      "1.0\n"
     ]
    },
    {
     "ename": "ValueError",
     "evalue": "It is not possible!",
     "output_type": "error",
     "traceback": [
      "\u001b[1;31m---------------------------------------------------------------------------\u001b[0m",
      "\u001b[1;31mValueError\u001b[0m                                Traceback (most recent call last)",
      "\u001b[1;32mc:\\Users\\bug\\Desktop\\edupython2023\\MIPTEduPython\\Lecture2. Basic types\\classes.ipynb Cell 13\u001b[0m line \u001b[0;36m3\n\u001b[0;32m      <a href='vscode-notebook-cell:/c%3A/Users/bug/Desktop/edupython2023/MIPTEduPython/Lecture2.%20Basic%20types/classes.ipynb#X15sZmlsZQ%3D%3D?line=0'>1</a>\u001b[0m friend_car \u001b[39m=\u001b[39m Car(fuel_consumption\u001b[39m=\u001b[39m\u001b[39m0.5\u001b[39m)\n\u001b[0;32m      <a href='vscode-notebook-cell:/c%3A/Users/bug/Desktop/edupython2023/MIPTEduPython/Lecture2.%20Basic%20types/classes.ipynb#X15sZmlsZQ%3D%3D?line=1'>2</a>\u001b[0m \u001b[39mprint\u001b[39m(friend_car\u001b[39m.\u001b[39mfuel)\n\u001b[1;32m----> <a href='vscode-notebook-cell:/c%3A/Users/bug/Desktop/edupython2023/MIPTEduPython/Lecture2.%20Basic%20types/classes.ipynb#X15sZmlsZQ%3D%3D?line=2'>3</a>\u001b[0m friend_car\u001b[39m.\u001b[39;49mrun(\u001b[39m10\u001b[39;49m)\n\u001b[0;32m      <a href='vscode-notebook-cell:/c%3A/Users/bug/Desktop/edupython2023/MIPTEduPython/Lecture2.%20Basic%20types/classes.ipynb#X15sZmlsZQ%3D%3D?line=3'>4</a>\u001b[0m \u001b[39mprint\u001b[39m(friend_car\u001b[39m.\u001b[39mfuel)\n",
      "\u001b[1;32mc:\\Users\\bug\\Desktop\\edupython2023\\MIPTEduPython\\Lecture2. Basic types\\classes.ipynb Cell 13\u001b[0m line \u001b[0;36m2\n\u001b[0;32m     <a href='vscode-notebook-cell:/c%3A/Users/bug/Desktop/edupython2023/MIPTEduPython/Lecture2.%20Basic%20types/classes.ipynb#X15sZmlsZQ%3D%3D?line=17'>18</a>\u001b[0m     \u001b[39mself\u001b[39m\u001b[39m.\u001b[39mfuel \u001b[39m-\u001b[39m\u001b[39m=\u001b[39m \u001b[39mself\u001b[39m\u001b[39m.\u001b[39mfuel_consumption \u001b[39m*\u001b[39m dist\n\u001b[0;32m     <a href='vscode-notebook-cell:/c%3A/Users/bug/Desktop/edupython2023/MIPTEduPython/Lecture2.%20Basic%20types/classes.ipynb#X15sZmlsZQ%3D%3D?line=18'>19</a>\u001b[0m \u001b[39melse\u001b[39;00m:\n\u001b[1;32m---> <a href='vscode-notebook-cell:/c%3A/Users/bug/Desktop/edupython2023/MIPTEduPython/Lecture2.%20Basic%20types/classes.ipynb#X15sZmlsZQ%3D%3D?line=19'>20</a>\u001b[0m     \u001b[39mraise\u001b[39;00m \u001b[39mValueError\u001b[39;00m(\u001b[39m\"\u001b[39m\u001b[39mIt is not possible!\u001b[39m\u001b[39m\"\u001b[39m)\n",
      "\u001b[1;31mValueError\u001b[0m: It is not possible!"
     ]
    }
   ],
   "source": [
    "friend_car = Car(fuel_consumption=0.5)\n",
    "print(friend_car.fuel)\n",
    "friend_car.run(10)\n",
    "print(friend_car.fuel)"
   ]
  },
  {
   "cell_type": "code",
   "execution_count": null,
   "metadata": {},
   "outputs": [],
   "source": []
  }
 ],
 "metadata": {
  "kernelspec": {
   "display_name": "Python 3",
   "language": "python",
   "name": "python3"
  },
  "language_info": {
   "codemirror_mode": {
    "name": "ipython",
    "version": 3
   },
   "file_extension": ".py",
   "mimetype": "text/x-python",
   "name": "python",
   "nbconvert_exporter": "python",
   "pygments_lexer": "ipython3",
   "version": "3.10.8"
  },
  "orig_nbformat": 4
 },
 "nbformat": 4,
 "nbformat_minor": 2
}
