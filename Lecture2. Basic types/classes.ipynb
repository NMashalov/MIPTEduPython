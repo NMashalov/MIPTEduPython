{
 "cells": [
  {
   "cell_type": "markdown",
   "metadata": {},
   "source": [
    "Классы удобно объяснять в сравнение с функциями"
   ]
  },
  {
   "cell_type": "code",
   "execution_count": 7,
   "metadata": {},
   "outputs": [],
   "source": [
    "def sum(a:int,b:int) -> int:\n",
    "    \"\"\" Складывает два числа\n",
    "    \"\"\"\n",
    "    print(f'Cумма числел {a} и {b} равна:',a + b)\n",
    "\n",
    "def sub(a:int, b:int) -> int:\n",
    "    \"\"\" Вычитает из левого числа правое\n",
    "    \"\"\"\n",
    "    print(f'Разность чисел {a} и {b} равна:',a - b)\n",
    "\n",
    "\n",
    "def mult(a:int, b:int) -> int:\n",
    "    \"\"\" Умножает левое и правое число\n",
    "    \"\"\"\n",
    "    print(f'Произведение чисел {a} и {b} равно:',a * b)\n",
    "\n",
    "def power(a:int, b:int) -> int:\n",
    "    \"\"\" Напиши здесь свой код\n",
    "    \"\"\"\n",
    "    pass "
   ]
  },
  {
   "cell_type": "code",
   "execution_count": 8,
   "metadata": {},
   "outputs": [
    {
     "name": "stdout",
     "output_type": "stream",
     "text": [
      "Cумма числел 5 и 6 равна: 11\n",
      "Разность чисел 3 и 2 равна: 1\n",
      "Произведение чисел 1 и 2 равно: 2\n"
     ]
    }
   ],
   "source": [
    "sum(5,6)\n",
    "sub(3,2)\n",
    "mult(1,2)"
   ]
  },
  {
   "cell_type": "markdown",
   "metadata": {},
   "source": [
    "Но так не получится сохранить результат прошлой итерации.\n",
    "Каждый раз приходится передавать оба числа. Это неудобно.\n",
    "Хотелось бы иметь такую функцию, которая умела запоминать -> имела состояние. \n",
    "\n",
    "Такую возможность предоставляет классы"
   ]
  },
  {
   "cell_type": "code",
   "execution_count": 11,
   "metadata": {},
   "outputs": [],
   "source": [
    "class Calculator: \n",
    "    def __init__(self, init_number=0):\n",
    "        \"\"\"Передаем во внутренний словарик наше состояние\n",
    "        \"\"\"\n",
    "        print(f\"Начинаем вычисления с числом {init_number}\")\n",
    "        self.state = init_number\n",
    "\n",
    "    # через self мы передаём словарик с нашим состоянием в метод\n",
    "    def sum(self,b:int) -> None:\n",
    "        \"\"\" Складывает два числа\n",
    "        \"\"\"\n",
    "        self.state += b\n",
    "        print(f'Суммируем и получаем:',self.state)\n",
    "\n",
    "    def sub(self, b:int) -> None:\n",
    "        \"\"\" Вычитает из левого числа правое\n",
    "        \"\"\"\n",
    "        self.state -= b\n",
    "        print(f'Вычитаем и получаем:',self.state)\n",
    "\n",
    "    def mult(self, b:int) -> None:\n",
    "        \"\"\" Умножает левое и правое число\n",
    "        \"\"\"\n",
    "        self.state *= b\n",
    "        print(f'Умножаем и получаем',self.state)\n",
    "    def get_state(self) -> None:\n",
    "        print(f'На экране сейчас',self.state)\n",
    "\n"
   ]
  },
  {
   "cell_type": "code",
   "execution_count": 14,
   "metadata": {},
   "outputs": [
    {
     "name": "stdout",
     "output_type": "stream",
     "text": [
      "Начинаем вычисления с числом 0\n"
     ]
    },
    {
     "data": {
      "text/plain": [
       "0"
      ]
     },
     "execution_count": 14,
     "metadata": {},
     "output_type": "execute_result"
    }
   ],
   "source": [
    "calc = Calculator() \n",
    "calc.state # можно получить доступ к словарику по названию"
   ]
  },
  {
   "cell_type": "code",
   "execution_count": 16,
   "metadata": {},
   "outputs": [
    {
     "name": "stdout",
     "output_type": "stream",
     "text": [
      "Начинаем вычисления с числом 0\n",
      "Суммируем и получаем: 5\n",
      "Умножаем и получаем 15\n",
      "Вычитаем и получаем: 14\n"
     ]
    }
   ],
   "source": [
    "calc = Calculator() \n",
    "calc.sum(5) \n",
    "calc.mult(3)\n",
    "calc.sub(1)"
   ]
  },
  {
   "cell_type": "markdown",
   "metadata": {},
   "source": [
    "Теперь это больше похоже на калькулятор :)"
   ]
  }
 ],
 "metadata": {
  "kernelspec": {
   "display_name": "Python 3",
   "language": "python",
   "name": "python3"
  },
  "language_info": {
   "codemirror_mode": {
    "name": "ipython",
    "version": 3
   },
   "file_extension": ".py",
   "mimetype": "text/x-python",
   "name": "python",
   "nbconvert_exporter": "python",
   "pygments_lexer": "ipython3",
   "version": "3.11.3"
  },
  "orig_nbformat": 4
 },
 "nbformat": 4,
 "nbformat_minor": 2
}
